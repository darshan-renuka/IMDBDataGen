{
 "cells": [
  {
   "cell_type": "code",
   "execution_count": 1,
   "id": "3a4047b7",
   "metadata": {},
   "outputs": [],
   "source": [
    "import pandas as pd"
   ]
  },
  {
   "cell_type": "code",
   "execution_count": null,
   "id": "cd24feb9",
   "metadata": {},
   "outputs": [],
   "source": [
    "#akas_df = pd.read_csv('title.akas.tsv/data.tsv', sep='\\t', low_memory=False)\n",
    "basics_df = pd.read_csv('title.basics.tsv/data.tsv', sep='\\t', low_memory=False)\n"
   ]
  },
  {
   "cell_type": "code",
   "execution_count": null,
   "id": "6aa84352",
   "metadata": {},
   "outputs": [],
   "source": [
    "#crew_df = pd.read_csv('title.crew.tsv/data.tsv', sep='\\t', low_memory=False)\n",
    "ratings_df = pd.read_csv('title.ratings.tsv/data.tsv', sep='\\t', low_memory=False)"
   ]
  },
  {
   "cell_type": "code",
   "execution_count": null,
   "id": "ba925340",
   "metadata": {},
   "outputs": [],
   "source": [
    "akas_df.shape"
   ]
  },
  {
   "cell_type": "code",
   "execution_count": null,
   "id": "e747b426",
   "metadata": {},
   "outputs": [],
   "source": [
    "basics_df[basics_df['primaryTitle'] == '20,000 Leagues Under the Sea'].tconst.unique()"
   ]
  },
  {
   "cell_type": "code",
   "execution_count": null,
   "id": "7ca486f3",
   "metadata": {},
   "outputs": [],
   "source": [
    "basics_df[basics_df['primaryTitle'] == '20,000 Leagues Under the Sea']"
   ]
  },
  {
   "cell_type": "code",
   "execution_count": 13,
   "id": "c7900382",
   "metadata": {},
   "outputs": [],
   "source": [
    "principals_df = pd.read_csv('title.principals.tsv/data.tsv', sep='\\t', low_memory=False)"
   ]
  },
  {
   "cell_type": "code",
   "execution_count": 14,
   "id": "6b0c53ca",
   "metadata": {},
   "outputs": [
    {
     "ename": "KeyboardInterrupt",
     "evalue": "",
     "output_type": "error",
     "traceback": [
      "\u001b[1;31m---------------------------------------------------------------------------\u001b[0m",
      "\u001b[1;31mKeyboardInterrupt\u001b[0m                         Traceback (most recent call last)",
      "Cell \u001b[1;32mIn[14], line 19\u001b[0m\n\u001b[0;32m     17\u001b[0m \u001b[38;5;28;01mfor\u001b[39;00m row, data \u001b[38;5;129;01min\u001b[39;00m group\u001b[38;5;241m.\u001b[39miterrows():\n\u001b[0;32m     18\u001b[0m     \u001b[38;5;28;01mif\u001b[39;00m data[\u001b[38;5;124m'\u001b[39m\u001b[38;5;124mcategory\u001b[39m\u001b[38;5;124m'\u001b[39m] \u001b[38;5;241m!=\u001b[39m \u001b[38;5;124m'\u001b[39m\u001b[38;5;130;01m\\\\\u001b[39;00m\u001b[38;5;124mN\u001b[39m\u001b[38;5;124m'\u001b[39m:\n\u001b[1;32m---> 19\u001b[0m         c_job\u001b[38;5;241m.\u001b[39mappend({\u001b[43mdata\u001b[49m\u001b[43m[\u001b[49m\u001b[38;5;124;43m'\u001b[39;49m\u001b[38;5;124;43mnconst\u001b[39;49m\u001b[38;5;124;43m'\u001b[39;49m\u001b[43m]\u001b[49m:data[\u001b[38;5;124m'\u001b[39m\u001b[38;5;124mcategory\u001b[39m\u001b[38;5;124m'\u001b[39m]})\n\u001b[0;32m     20\u001b[0m     \u001b[38;5;28;01mif\u001b[39;00m data[\u001b[38;5;124m'\u001b[39m\u001b[38;5;124mcharacters\u001b[39m\u001b[38;5;124m'\u001b[39m] \u001b[38;5;241m!=\u001b[39m \u001b[38;5;124m'\u001b[39m\u001b[38;5;130;01m\\\\\u001b[39;00m\u001b[38;5;124mN\u001b[39m\u001b[38;5;124m'\u001b[39m:\n\u001b[0;32m     21\u001b[0m         c_name\u001b[38;5;241m.\u001b[39mappend({data[\u001b[38;5;124m'\u001b[39m\u001b[38;5;124mnconst\u001b[39m\u001b[38;5;124m'\u001b[39m]:data[\u001b[38;5;124m'\u001b[39m\u001b[38;5;124mcharacters\u001b[39m\u001b[38;5;124m'\u001b[39m]})\n",
      "File \u001b[1;32m~\\AppData\\Local\\anaconda3\\lib\\site-packages\\pandas\\core\\series.py:981\u001b[0m, in \u001b[0;36mSeries.__getitem__\u001b[1;34m(self, key)\u001b[0m\n\u001b[0;32m    978\u001b[0m     \u001b[38;5;28;01mreturn\u001b[39;00m \u001b[38;5;28mself\u001b[39m\u001b[38;5;241m.\u001b[39m_values[key]\n\u001b[0;32m    980\u001b[0m \u001b[38;5;28;01melif\u001b[39;00m key_is_scalar:\n\u001b[1;32m--> 981\u001b[0m     \u001b[38;5;28;01mreturn\u001b[39;00m \u001b[38;5;28;43mself\u001b[39;49m\u001b[38;5;241;43m.\u001b[39;49m\u001b[43m_get_value\u001b[49m\u001b[43m(\u001b[49m\u001b[43mkey\u001b[49m\u001b[43m)\u001b[49m\n\u001b[0;32m    983\u001b[0m \u001b[38;5;28;01mif\u001b[39;00m is_hashable(key):\n\u001b[0;32m    984\u001b[0m     \u001b[38;5;66;03m# Otherwise index.get_value will raise InvalidIndexError\u001b[39;00m\n\u001b[0;32m    985\u001b[0m     \u001b[38;5;28;01mtry\u001b[39;00m:\n\u001b[0;32m    986\u001b[0m         \u001b[38;5;66;03m# For labels that don't resolve as scalars like tuples and frozensets\u001b[39;00m\n",
      "File \u001b[1;32m~\\AppData\\Local\\anaconda3\\lib\\site-packages\\pandas\\core\\series.py:1090\u001b[0m, in \u001b[0;36mSeries._get_value\u001b[1;34m(self, label, takeable)\u001b[0m\n\u001b[0;32m   1088\u001b[0m \u001b[38;5;66;03m# Similar to Index.get_value, but we do not fall back to positional\u001b[39;00m\n\u001b[0;32m   1089\u001b[0m loc \u001b[38;5;241m=\u001b[39m \u001b[38;5;28mself\u001b[39m\u001b[38;5;241m.\u001b[39mindex\u001b[38;5;241m.\u001b[39mget_loc(label)\n\u001b[1;32m-> 1090\u001b[0m \u001b[38;5;28;01mreturn\u001b[39;00m \u001b[38;5;28;43mself\u001b[39;49m\u001b[38;5;241;43m.\u001b[39;49m\u001b[43mindex\u001b[49m\u001b[38;5;241;43m.\u001b[39;49m\u001b[43m_get_values_for_loc\u001b[49m\u001b[43m(\u001b[49m\u001b[38;5;28;43mself\u001b[39;49m\u001b[43m,\u001b[49m\u001b[43m \u001b[49m\u001b[43mloc\u001b[49m\u001b[43m,\u001b[49m\u001b[43m \u001b[49m\u001b[43mlabel\u001b[49m\u001b[43m)\u001b[49m\n",
      "\u001b[1;31mKeyboardInterrupt\u001b[0m: "
     ]
    }
   ],
   "source": [
    "# Collate all crew info to a single row for each movie of the format - \n",
    "# crew_job ->[{'nconst1':'category'}, {'nconst12':'category'}, ....]\n",
    "# character_name -> [{'nconst1':'char_name'}, {'nconst12':'char_name'}, ....]\n",
    "# Remove following columns  - ordering, nconst, category, job, category, characters, tconst\n",
    "\n",
    "principals_df_temp = principals_df.loc[0:500,:]\n",
    "\n",
    "title_group = principals_df.groupby('tconst')\n",
    "# temp_df = pd.DataFrame(columns=['crew_job', 'character_name'])\n",
    "crew_job = []\n",
    "crew_name = []\n",
    "tconst = []\n",
    "for key, group in title_group:\n",
    "    c_job = []\n",
    "    c_name = []\n",
    "    \n",
    "    for row, data in group.iterrows():\n",
    "        if data['category'] != '\\\\N':\n",
    "            c_job.append({data['nconst']:data['category']})\n",
    "        if data['characters'] != '\\\\N':\n",
    "            c_name.append({data['nconst']:data['characters']})\n",
    "    crew_job.append(c_job)\n",
    "    crew_name.append(c_name)\n",
    "    tconst.append(key)\n",
    "    \n",
    "principals_df = pd.DataFrame(data={'tconst':tconst, 'crew_job':crew_job, 'character_name': crew_name})"
   ]
  },
  {
   "cell_type": "code",
   "execution_count": 12,
   "id": "aa0d8bbe",
   "metadata": {},
   "outputs": [
    {
     "data": {
      "text/plain": [
       "Index(['tconst', 'crew_job', 'character_name'], dtype='object')"
      ]
     },
     "execution_count": 12,
     "metadata": {},
     "output_type": "execute_result"
    }
   ],
   "source": [
    "principals_df.columns"
   ]
  },
  {
   "cell_type": "code",
   "execution_count": null,
   "id": "f45e86ac",
   "metadata": {},
   "outputs": [],
   "source": [
    "print(akas_df.columns)\n",
    "akas_df[akas_df['title'] == 'Carmencita']"
   ]
  },
  {
   "cell_type": "code",
   "execution_count": null,
   "id": "909a5cd7",
   "metadata": {},
   "outputs": [],
   "source": [
    "basics_df = basics_df.rename(columns={'primaryTitle':'title'})\n",
    "print(basics_df.shape)\n",
    "basics_df.head(1)"
   ]
  },
  {
   "cell_type": "code",
   "execution_count": null,
   "id": "06fa9ec1",
   "metadata": {},
   "outputs": [],
   "source": [
    "print(akas_df.title.nunique())\n",
    "basics_df.primaryTitle.nunique()"
   ]
  },
  {
   "cell_type": "code",
   "execution_count": null,
   "id": "ff1a62b4",
   "metadata": {},
   "outputs": [],
   "source": [
    "akas_df.groupby('language').agg({'title':'nunique'}).to_csv('imdb_akas_language_title.csv')"
   ]
  },
  {
   "cell_type": "code",
   "execution_count": null,
   "id": "0c818fef",
   "metadata": {},
   "outputs": [],
   "source": [
    "akas_df[akas_df['language']=='uk']"
   ]
  },
  {
   "cell_type": "code",
   "execution_count": null,
   "id": "b8234648",
   "metadata": {},
   "outputs": [],
   "source": [
    "basics_df.groupby('genres').agg({'primaryTitle':'nunique'}).to_csv('imdb_basics_genres_title.csv')"
   ]
  },
  {
   "cell_type": "code",
   "execution_count": null,
   "id": "f356b280",
   "metadata": {},
   "outputs": [],
   "source": [
    "print(basics_df.dtypes)\n",
    "akas_df.dtypes"
   ]
  },
  {
   "cell_type": "code",
   "execution_count": null,
   "id": "7af4a67b",
   "metadata": {},
   "outputs": [],
   "source": [
    "merged_df = pd.merge(basics_df, akas_df, how='left',  left_on='title', right_on='title')"
   ]
  },
  {
   "cell_type": "code",
   "execution_count": null,
   "id": "0af07d41",
   "metadata": {},
   "outputs": [],
   "source": [
    "merged_df.shape"
   ]
  },
  {
   "cell_type": "code",
   "execution_count": null,
   "id": "1ccbe7f1",
   "metadata": {},
   "outputs": [],
   "source": [
    "merged_df.head(2)"
   ]
  },
  {
   "cell_type": "code",
   "execution_count": null,
   "id": "0ec63436",
   "metadata": {},
   "outputs": [],
   "source": [
    "merged_df = merged_df[['titleId', 'title', 'region', 'language', 'startYear', 'endYear', 'runtimeMinutes', 'genres']]\n",
    "merged_df = merged_df.drop_duplicates()\n",
    "merged_df.shape"
   ]
  },
  {
   "cell_type": "code",
   "execution_count": null,
   "id": "f529ebb1",
   "metadata": {},
   "outputs": [],
   "source": [
    "merged_df.title.unique()"
   ]
  },
  {
   "cell_type": "code",
   "execution_count": null,
   "id": "4660a253",
   "metadata": {},
   "outputs": [],
   "source": [
    "temp_df = merged_df[merged_df['title'] == 'Carmencita'].startYear.unique()"
   ]
  },
  {
   "cell_type": "code",
   "execution_count": null,
   "id": "81e0bf0b",
   "metadata": {},
   "outputs": [],
   "source": [
    "temp_df"
   ]
  },
  {
   "cell_type": "code",
   "execution_count": null,
   "id": "494a50fb",
   "metadata": {},
   "outputs": [],
   "source": [
    "basics_df[basics_df['primaryTitle'] == 'Carmencita']"
   ]
  },
  {
   "cell_type": "code",
   "execution_count": null,
   "id": "3d79e6c4",
   "metadata": {},
   "outputs": [],
   "source": [
    "akas_df[akas_df['title'] == 'Carmencita']"
   ]
  },
  {
   "cell_type": "code",
   "execution_count": null,
   "id": "150e7cfa",
   "metadata": {},
   "outputs": [],
   "source": [
    "print(crew_df.shape)\n",
    "ratings_df.shape"
   ]
  },
  {
   "cell_type": "code",
   "execution_count": null,
   "id": "2da23e56",
   "metadata": {},
   "outputs": [],
   "source": [
    "crew_df.head(1)"
   ]
  },
  {
   "cell_type": "code",
   "execution_count": null,
   "id": "ab006e1c",
   "metadata": {},
   "outputs": [],
   "source": [
    "crew_df['writers'] = crew_df['writers'].apply(lambda x : None if x=='\\\\N' else x)"
   ]
  },
  {
   "cell_type": "code",
   "execution_count": null,
   "id": "a381ded6",
   "metadata": {},
   "outputs": [],
   "source": [
    "crew_df = crew_df.dropna()"
   ]
  },
  {
   "cell_type": "code",
   "execution_count": null,
   "id": "d6e13e29",
   "metadata": {},
   "outputs": [],
   "source": [
    "crew_df.head(3)"
   ]
  },
  {
   "cell_type": "code",
   "execution_count": null,
   "id": "64d523b5",
   "metadata": {},
   "outputs": [],
   "source": [
    "ratings_df.head(2)"
   ]
  },
  {
   "cell_type": "code",
   "execution_count": null,
   "id": "22001bd7",
   "metadata": {},
   "outputs": [],
   "source": [
    "temp_crew_df.shape"
   ]
  },
  {
   "cell_type": "code",
   "execution_count": null,
   "id": "0ec9ffd7",
   "metadata": {},
   "outputs": [],
   "source": [
    "principals_df.head(3)"
   ]
  },
  {
   "cell_type": "code",
   "execution_count": null,
   "id": "431c4990",
   "metadata": {},
   "outputs": [],
   "source": [
    "principals_df[principals_df['tconst'] == 'tt0000001']"
   ]
  },
  {
   "cell_type": "code",
   "execution_count": null,
   "id": "699f31e7",
   "metadata": {},
   "outputs": [],
   "source": [
    "crew_df[crew_df['tconst'] == 'tt0000001']"
   ]
  },
  {
   "cell_type": "code",
   "execution_count": null,
   "id": "64b394cd",
   "metadata": {},
   "outputs": [],
   "source": [
    "ratings_df[ratings_df['tconst']=='tt0000001']"
   ]
  },
  {
   "cell_type": "code",
   "execution_count": null,
   "id": "4b1423d7",
   "metadata": {},
   "outputs": [],
   "source": [
    "print(basics_df[basics_df['tconst'] == 'tt0000002'])\n",
    "print(basics_df.shape)\n",
    "basics_df['title'].nunique()"
   ]
  },
  {
   "cell_type": "code",
   "execution_count": null,
   "id": "83948360",
   "metadata": {},
   "outputs": [],
   "source": [
    "basics_df.shape\n",
    "principals_df.shape"
   ]
  },
  {
   "cell_type": "code",
   "execution_count": null,
   "id": "312fbc36",
   "metadata": {},
   "outputs": [],
   "source": [
    "merged_df = pd.merge(basics_df, ratings_df, on='tconst', how='left')"
   ]
  },
  {
   "cell_type": "code",
   "execution_count": null,
   "id": "0b617b90",
   "metadata": {},
   "outputs": [],
   "source": [
    "print(merged_df.shape)\n",
    "merged_df.head(5)"
   ]
  },
  {
   "cell_type": "code",
   "execution_count": null,
   "id": "5527763e",
   "metadata": {},
   "outputs": [],
   "source": [
    "merged_df = pd.merge(merged_df, principals_df, on='tconst', how='left')"
   ]
  },
  {
   "cell_type": "code",
   "execution_count": null,
   "id": "3e298ed1",
   "metadata": {},
   "outputs": [],
   "source": [
    "print(merged_df.shape)\n",
    "merged_df.head()"
   ]
  },
  {
   "cell_type": "code",
   "execution_count": null,
   "id": "589e5780",
   "metadata": {},
   "outputs": [],
   "source": [
    "#merged_df.to_csv('FinalMergedData-4Apr.csv')"
   ]
  },
  {
   "cell_type": "code",
   "execution_count": null,
   "id": "df8c7458",
   "metadata": {},
   "outputs": [],
   "source": [
    "merged_df.title.nunique()"
   ]
  },
  {
   "cell_type": "code",
   "execution_count": null,
   "id": "5b11611e",
   "metadata": {},
   "outputs": [],
   "source": [
    "basics_df.title.nunique()"
   ]
  },
  {
   "cell_type": "code",
   "execution_count": null,
   "id": "e34abbaa",
   "metadata": {},
   "outputs": [],
   "source": [
    "merged_df.columns"
   ]
  },
  {
   "cell_type": "code",
   "execution_count": null,
   "id": "a7320b76",
   "metadata": {},
   "outputs": [],
   "source": [
    "#Add language column for each movie\n",
    "akas_df = pd.read_csv('title.akas.tsv/data.tsv', sep='\\t', low_memory=False)\n",
    "akas_df.head()"
   ]
  },
  {
   "cell_type": "code",
   "execution_count": null,
   "id": "15969bd0",
   "metadata": {},
   "outputs": [],
   "source": [
    "akas_df['language'] = akas_df['language'].apply(lambda x : None if x=='\\\\N' else x)\n",
    "akas_df = akas_df.dropna()"
   ]
  },
  {
   "cell_type": "code",
   "execution_count": null,
   "id": "0839f399",
   "metadata": {},
   "outputs": [],
   "source": [
    "akas_df.language.unique()"
   ]
  },
  {
   "cell_type": "code",
   "execution_count": null,
   "id": "5ab229a2",
   "metadata": {},
   "outputs": [],
   "source": [
    "count_df = akas_df.groupby(['title', 'language']).agg({'titleId':'count'})"
   ]
  },
  {
   "cell_type": "code",
   "execution_count": null,
   "id": "67bf335d",
   "metadata": {},
   "outputs": [],
   "source": [
    "count_df.head()"
   ]
  },
  {
   "cell_type": "code",
   "execution_count": null,
   "id": "d2516786",
   "metadata": {},
   "outputs": [],
   "source": [
    "# count_df[count_df['title'] == '2010 FIFA Wêreldbeker']\n",
    "count_df.to_csv('akas_title_count_1.csv')"
   ]
  },
  {
   "cell_type": "code",
   "execution_count": null,
   "id": "0ce84324",
   "metadata": {},
   "outputs": [],
   "source": [
    "movie_group = count_df.groupby('title')"
   ]
  },
  {
   "cell_type": "code",
   "execution_count": null,
   "id": "bdf10b08",
   "metadata": {},
   "outputs": [],
   "source": [
    "most_watched_language = {}\n",
    "for key, group in movie_group:\n",
    "    #print(group.sort_values('titleId').reset_index().loc[0,'language'])\n",
    "    most_watched_language[key] = group.sort_values('titleId').reset_index().loc[0,'language']"
   ]
  },
  {
   "cell_type": "code",
   "execution_count": null,
   "id": "6a135c62",
   "metadata": {},
   "outputs": [],
   "source": [
    "len(most_watched_language)"
   ]
  },
  {
   "cell_type": "code",
   "execution_count": null,
   "id": "05bd63a6",
   "metadata": {},
   "outputs": [],
   "source": [
    "# Split merged_df into 10 files, each contaning ~5M records.\n",
    "title_list = list(basics_df.title.unique())\n",
    "split_num = int(basics_df.title.nunique()/10)\n",
    "j=1\n",
    "\n",
    "for i in range(0,basics_df.title.nunique(),split_num):\n",
    "    print('Running Iteration-',str(j))\n",
    "    temp_list = title_list[i:i+split_num]\n",
    "    temp_df = merged_df[merged_df['title'].isin(temp_list)]\n",
    "    print(temp_df.shape)\n",
    "    #f_name = 'FinalMergedData-' + j\n",
    "    temp_df.to_csv('TempMergedData-'+str(j)+'.csv')\n",
    "    j+=1\n",
    "    \n",
    "    print(i)\n",
    "    print(i+split_num)\n",
    "    print('####')"
   ]
  },
  {
   "cell_type": "code",
   "execution_count": null,
   "id": "97a31185",
   "metadata": {},
   "outputs": [],
   "source": [
    "# Read each TempMergedData.csv file and merge with principals file\n",
    "final_size = 0\n",
    "print('Principals - ', principals_df.shape)\n",
    "for i in range(1,j+1):\n",
    "    print('Running Iteration-1')\n",
    "    temp_df = pd.read_csv('TempMergedData-'+str(i)+'.csv', low_memory=False)\n",
    "    print('temp_df initial- ',temp_df.shape)\n",
    "    temp_p = principals_df[principals_df['tconst'].isin(list(temp_df.tconst.unique()))]\n",
    "    print('temp_p - ', temp_p.shape)\n",
    "    temp_df = pd.merge(temp_df, temp_p, on='tconst', how='left')\n",
    "    final_size+=temp_df.shape[0]\n",
    "    print('temp_df after - ',temp_df.shape)\n",
    "    temp_df.to_csv('TempMergedDataPrincipal-'+str(i)+'.csv')\n",
    "    print('#####')\n",
    "print('Final Merged Size - ', str(final_size))"
   ]
  },
  {
   "cell_type": "code",
   "execution_count": null,
   "id": "7384fd5d",
   "metadata": {},
   "outputs": [],
   "source": [
    "final_size"
   ]
  },
  {
   "cell_type": "code",
   "execution_count": null,
   "id": "c2b38f5a",
   "metadata": {},
   "outputs": [],
   "source": [
    "# Read each TempMergedDataPrincipal.csv file and merge with ratings file\n",
    "final_size = 0\n",
    "print('Ratings - ', ratings_df.shape)\n",
    "for i in range(2,12):\n",
    "    print('Running Iteration-',i)\n",
    "    temp_df1 = pd.read_csv('TempMergedDataPrincipal-'+str(i)+'.csv', low_memory=False)\n",
    "    print('temp_df initial- ',temp_df1.shape)\n",
    "    temp_p = ratings_df[ratings_df['tconst'].isin(list(temp_df.tconst.unique()))]\n",
    "    print('temp_p - ', temp_p.shape)\n",
    "    temp_df = pd.merge(temp_df1, temp_p, on='tconst', how='left')\n",
    "#     temp_df = temp_df[['tconst', 'titleType', 'title', 'originalTitle', 'isAdult', 'startYear', 'endYear', \n",
    "#                        'runtimeMinutes', 'genres', 'directors', 'writers', 'characters_x', 'nconst_y', 'category_y', \n",
    "#                        'job_y', 'characters_y', 'averageRating', 'numVotes']]\n",
    "    print('before duplicates - ', temp_df.shape)\n",
    "    temp_df = temp_df.drop_duplicates()\n",
    "    final_size+=temp_df.shape[0]\n",
    "    print('temp_df after - ',temp_df.shape)\n",
    "    temp_df.to_csv('TempMergedDataRating-'+str(i)+'.csv', index=False)\n",
    "    print('#####')\n",
    "print('Final Merged Size - ', str(final_size))"
   ]
  },
  {
   "cell_type": "code",
   "execution_count": null,
   "id": "3f0bc25b",
   "metadata": {},
   "outputs": [],
   "source": [
    "for chunk in pd.read_csv('TempMergedDataPrincipal-2.csv', low_memory=False, chunksize=10):\n",
    "    print(chunk.columns)\n",
    "    "
   ]
  },
  {
   "cell_type": "code",
   "execution_count": null,
   "id": "f19ac2bf",
   "metadata": {},
   "outputs": [],
   "source": [
    "for chunk in pd.read_csv('TempMergedDataPrincipal-3.csv', low_memory=False, chunksize=10):\n",
    "    print(chunk.columns)"
   ]
  },
  {
   "cell_type": "code",
   "execution_count": null,
   "id": "8d6526b9",
   "metadata": {},
   "outputs": [],
   "source": [
    "merged_df_1 = pd.merge(merged_df, ratings_df, on='tconst', how='left')"
   ]
  },
  {
   "cell_type": "code",
   "execution_count": null,
   "id": "e195a249",
   "metadata": {},
   "outputs": [],
   "source": [
    "print(merged_df.shape)\n",
    "merged_df.head()\n",
    "\n",
    "#TODO: Run till above cell(required cells)\n",
    "# Write merged_df to csv.\n",
    "# Clear kernel and memory\n",
    "# Load merged_df from csv\n",
    "# Merge merged_df and ratings_df"
   ]
  },
  {
   "cell_type": "code",
   "execution_count": null,
   "id": "800e8fe0",
   "metadata": {},
   "outputs": [],
   "source": [
    "#merged_df.to_csv('FinalMergedData.csv')"
   ]
  },
  {
   "cell_type": "code",
   "execution_count": null,
   "id": "9f739200",
   "metadata": {},
   "outputs": [],
   "source": [
    "merged_df = merged_df[['titleId', 'title', 'region', 'language', 'startYear', 'endYear', 'runtimeMinutes', 'genres']]"
   ]
  }
 ],
 "metadata": {
  "kernelspec": {
   "display_name": "Python 3 (ipykernel)",
   "language": "python",
   "name": "python3"
  },
  "language_info": {
   "codemirror_mode": {
    "name": "ipython",
    "version": 3
   },
   "file_extension": ".py",
   "mimetype": "text/x-python",
   "name": "python",
   "nbconvert_exporter": "python",
   "pygments_lexer": "ipython3",
   "version": "3.10.9"
  }
 },
 "nbformat": 4,
 "nbformat_minor": 5
}
